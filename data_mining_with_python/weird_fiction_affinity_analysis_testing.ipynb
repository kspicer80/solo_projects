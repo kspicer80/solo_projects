{
 "cells": [
  {
   "cell_type": "code",
   "execution_count": 17,
   "metadata": {},
   "outputs": [],
   "source": [
    "import pandas as pd\n",
    "from pathlib import Path"
   ]
  },
  {
   "cell_type": "code",
   "execution_count": 18,
   "metadata": {},
   "outputs": [],
   "source": [
    "file_path = 'gephi_edges.csv'"
   ]
  },
  {
   "cell_type": "code",
   "execution_count": 19,
   "metadata": {},
   "outputs": [],
   "source": [
    "all_ratings = pd.read_csv(file_path, header=0)"
   ]
  },
  {
   "cell_type": "code",
   "execution_count": 20,
   "metadata": {},
   "outputs": [],
   "source": [
    "all_ratings['Favorable'] = ~all_ratings['target'].isnull()\n",
    "#print(all_ratings['source'].max())\n",
    "ratings = all_ratings[all_ratings['source'].isin(range(396))]"
   ]
  },
  {
   "cell_type": "code",
   "execution_count": 21,
   "metadata": {},
   "outputs": [],
   "source": [
    "favorable_ratings = all_ratings[all_ratings['Favorable']]"
   ]
  },
  {
   "cell_type": "code",
   "execution_count": 22,
   "metadata": {},
   "outputs": [],
   "source": [
    "favorable_reviews_by_users = dict((k, frozenset(v.values)) for k, v in favorable_ratings.groupby('source')['target'])"
   ]
  },
  {
   "cell_type": "code",
   "execution_count": 23,
   "metadata": {},
   "outputs": [],
   "source": [
    "num_favorable_by_story = all_ratings[['target', 'Favorable']].groupby('target').sum()"
   ]
  },
  {
   "cell_type": "code",
   "execution_count": 24,
   "metadata": {},
   "outputs": [
    {
     "data": {
      "text/html": [
       "<div>\n",
       "<style scoped>\n",
       "    .dataframe tbody tr th:only-of-type {\n",
       "        vertical-align: middle;\n",
       "    }\n",
       "\n",
       "    .dataframe tbody tr th {\n",
       "        vertical-align: top;\n",
       "    }\n",
       "\n",
       "    .dataframe thead th {\n",
       "        text-align: right;\n",
       "    }\n",
       "</style>\n",
       "<table border=\"1\" class=\"dataframe\">\n",
       "  <thead>\n",
       "    <tr style=\"text-align: right;\">\n",
       "      <th></th>\n",
       "      <th>Favorable</th>\n",
       "    </tr>\n",
       "    <tr>\n",
       "      <th>target</th>\n",
       "      <th></th>\n",
       "    </tr>\n",
       "  </thead>\n",
       "  <tbody>\n",
       "    <tr>\n",
       "      <th>4.0</th>\n",
       "      <td>181</td>\n",
       "    </tr>\n",
       "    <tr>\n",
       "      <th>34.0</th>\n",
       "      <td>154</td>\n",
       "    </tr>\n",
       "    <tr>\n",
       "      <th>21.0</th>\n",
       "      <td>130</td>\n",
       "    </tr>\n",
       "    <tr>\n",
       "      <th>22.0</th>\n",
       "      <td>123</td>\n",
       "    </tr>\n",
       "    <tr>\n",
       "      <th>36.0</th>\n",
       "      <td>119</td>\n",
       "    </tr>\n",
       "  </tbody>\n",
       "</table>\n",
       "</div>"
      ],
      "text/plain": [
       "        Favorable\n",
       "target           \n",
       "4.0           181\n",
       "34.0          154\n",
       "21.0          130\n",
       "22.0          123\n",
       "36.0          119"
      ]
     },
     "execution_count": 24,
     "metadata": {},
     "output_type": "execute_result"
    }
   ],
   "source": [
    "num_favorable_by_story.sort_values('Favorable', ascending=False).head()"
   ]
  },
  {
   "cell_type": "code",
   "execution_count": 25,
   "metadata": {},
   "outputs": [],
   "source": [
    "frequent_itemsets = dict()\n",
    "min_support = 50\n",
    "frequent_itemsets[1] = dict((frozenset((target,)), row['Favorable']) for target, row in num_favorable_by_story.iterrows() if row['Favorable'] > min_support)"
   ]
  },
  {
   "cell_type": "code",
   "execution_count": 26,
   "metadata": {},
   "outputs": [],
   "source": [
    "from collections import defaultdict\n",
    "\n",
    "def find_frequent_itemsets(favorable_reviews_by_users, k_1_itemsets, min_support):\n",
    "    counts = defaultdict(int)\n",
    "    for user, reviews in favorable_reviews_by_users.items():\n",
    "        for itemset in k_1_itemsets:\n",
    "            if itemset.issubset(reviews):\n",
    "                for other_reviewed_movie in reviews - itemset:\n",
    "                    current_superset = itemset | frozenset((other_reviewed_movie,))\n",
    "                    counts[current_superset] += 1\n",
    "    return dict([(itemset, frequency) for itemset, frequency in counts.items() if frequency >= min_support])"
   ]
  },
  {
   "cell_type": "code",
   "execution_count": 27,
   "metadata": {},
   "outputs": [
    {
     "name": "stdout",
     "output_type": "stream",
     "text": [
      "I found 413 frequent itemsets of length 2.\n",
      "I found 2208 frequent itemsets of length 3.\n",
      "I found 6426 frequent itemsets of length 4.\n",
      "I found 11402 frequent itemsets of length 5.\n",
      "I found 12617 frequent itemsets of length 6.\n",
      "I found 8799 frequent itemsets of length 7.\n",
      "I found 3709 frequent itemsets of length 8.\n",
      "I found 844 frequent itemsets of length 9.\n",
      "I found 85 frequent itemsets of length 10.\n",
      "I found 2 frequent itemsets of length 11.\n",
      "Did not find any frequent itemsets of length 12.\n"
     ]
    }
   ],
   "source": [
    "import sys\n",
    "for k in range(2, 20):\n",
    "    cur_frequent_itemsets = find_frequent_itemsets(favorable_reviews_by_users, frequent_itemsets[k-1], min_support)\n",
    "    frequent_itemsets[k] = cur_frequent_itemsets\n",
    "    if len(cur_frequent_itemsets) == 0:\n",
    "        print(f\"Did not find any frequent itemsets of length {k}.\")\n",
    "        sys.stdout.flush()\n",
    "        break\n",
    "    else:\n",
    "        print(f\"I found {len(cur_frequent_itemsets)} frequent itemsets of length {k}.\")\n",
    "        sys.stdout.flush()\n",
    "        frequent_itemsets[k] = cur_frequent_itemsets"
   ]
  },
  {
   "cell_type": "code",
   "execution_count": 28,
   "metadata": {},
   "outputs": [],
   "source": [
    "candidate_rules = []\n",
    "for itemset_length, itemset_counts in frequent_itemsets.items():\n",
    "    for itemset in itemset_counts.keys():\n",
    "        for conclusion in itemset:\n",
    "            premise = itemset - set((conclusion,))\n",
    "            candidate_rules.append((premise, conclusion))"
   ]
  },
  {
   "cell_type": "code",
   "execution_count": 29,
   "metadata": {},
   "outputs": [],
   "source": [
    "correct_counts = defaultdict()\n",
    "incorrect_counts =  defaultdict()\n",
    "\n",
    "correct_counts = defaultdict(int)\n",
    "incorrect_counts = defaultdict(int)\n",
    "for user, reviews in favorable_reviews_by_users.items():\n",
    "    for candidate_rule in candidate_rules:\n",
    "        premise, conclusion = candidate_rule\n",
    "        if premise.issubset(reviews):\n",
    "            if conclusion in reviews:\n",
    "                correct_counts[candidate_rule] += 1\n",
    "            else:\n",
    "                incorrect_counts[candidate_rule] += 1"
   ]
  },
  {
   "cell_type": "code",
   "execution_count": 30,
   "metadata": {},
   "outputs": [],
   "source": [
    "rule_confidence = {candidate_rule: correct_counts[candidate_rule]/float\n",
    "(correct_counts[candidate_rule] + incorrect_counts[candidate_rule]) for \n",
    "candidate_rule in candidate_rules} "
   ]
  },
  {
   "cell_type": "code",
   "execution_count": 31,
   "metadata": {},
   "outputs": [
    {
     "name": "stdout",
     "output_type": "stream",
     "text": [
      "Rule #1\n",
      "Rule: If a person recommends frozenset({102.0}) they will also recommend 4.0.\n",
      "- Confidence: 1.0\n",
      "\n",
      "Rule #2\n",
      "Rule: If a person recommends frozenset({115.0, 78.0}) they will also recommend 27.0.\n",
      "- Confidence: 1.0\n",
      "\n",
      "Rule #3\n",
      "Rule: If a person recommends frozenset({27.0, 94.0}) they will also recommend 115.0.\n",
      "- Confidence: 1.0\n",
      "\n",
      "Rule #4\n",
      "Rule: If a person recommends frozenset({34.0, 115.0}) they will also recommend 27.0.\n",
      "- Confidence: 1.0\n",
      "\n",
      "Rule #5\n",
      "Rule: If a person recommends frozenset({74.0, 108.0}) they will also recommend 101.0.\n",
      "- Confidence: 1.0\n",
      "\n"
     ]
    }
   ],
   "source": [
    "from operator import itemgetter\n",
    "sorted_confidence = sorted(rule_confidence.items(), key=itemgetter(1), \n",
    "reverse=True)\n",
    "\n",
    "for index in range(5):\n",
    "    print(f\"Rule #{index+1}\")\n",
    "    (premise, conclusion) = sorted_confidence[index][0]\n",
    "    print(f\"Rule: If a person recommends {premise} they will also recommend {conclusion}.\")\n",
    "    print(f\"- Confidence: {rule_confidence[(premise, conclusion)]}\")\n",
    "    print(\"\")"
   ]
  },
  {
   "cell_type": "code",
   "execution_count": 34,
   "metadata": {},
   "outputs": [],
   "source": [
    "from all_names import all_author_and_student_names"
   ]
  },
  {
   "cell_type": "code",
   "execution_count": 60,
   "metadata": {},
   "outputs": [
    {
     "data": {
      "text/plain": [
       "dict"
      ]
     },
     "execution_count": 60,
     "metadata": {},
     "output_type": "execute_result"
    }
   ],
   "source": [
    "names = all_author_and_student_names\n",
    "type(names)\n"
   ]
  },
  {
   "cell_type": "code",
   "execution_count": null,
   "metadata": {},
   "outputs": [],
   "source": [
    "#names_df = pd.DataFrame.from_dict(names, orient='index', columns=['id', 'text'])\n",
    "#names_df = pd.DataFrame.from_dict(names, orient=\"index\")\n",
    "#names_df = pd.DataFrame.from_records(names, columns=['id', 'text'])\n",
    "#names_df.head()\n",
    "#print(names_df.tail())"
   ]
  },
  {
   "cell_type": "code",
   "execution_count": 61,
   "metadata": {},
   "outputs": [],
   "source": [
    "def get_story_name(story_number):\n",
    "    story_title = names[story_number]\n",
    "    return(story_title)"
   ]
  },
  {
   "cell_type": "code",
   "execution_count": 63,
   "metadata": {},
   "outputs": [
    {
     "name": "stdout",
     "output_type": "stream",
     "text": [
      "['Steve Duffy', 'Duffy', \"In the Lion's Den\"]\n"
     ]
    }
   ],
   "source": [
    "test_title = get_story_name(114)\n",
    "print(test_title)"
   ]
  },
  {
   "cell_type": "code",
   "execution_count": null,
   "metadata": {},
   "outputs": [],
   "source": [
    "for index in range(5):\n",
    "    print(\"Rule #{0}\".format(index + 1))\n",
    "    (premise, conclusion) = sorted_confidence[index][0]\n",
    "    premise_names = \", \".join(get_story_name(idx) for idx in premise)\n",
    "    conclusion_name = get_story_name(conclusion)\n",
    "    print(\"Rule: If a person recommends {0} they will also recommend {1}\".format(premise_names, conclusion_name))\n",
    "    print(\" - Confidence: {0:.3f}\".format(confidence[(premise, conclusion)]))\n",
    "    print(\"\")"
   ]
  },
  {
   "cell_type": "code",
   "execution_count": null,
   "metadata": {},
   "outputs": [],
   "source": []
  }
 ],
 "metadata": {
  "kernelspec": {
   "display_name": "Python 3.9.12 ('nlp')",
   "language": "python",
   "name": "python3"
  },
  "language_info": {
   "codemirror_mode": {
    "name": "ipython",
    "version": 3
   },
   "file_extension": ".py",
   "mimetype": "text/x-python",
   "name": "python",
   "nbconvert_exporter": "python",
   "pygments_lexer": "ipython3",
   "version": "3.9.12"
  },
  "orig_nbformat": 4,
  "vscode": {
   "interpreter": {
    "hash": "75edb825c87a0a6a7d95357b6ff5e82dfc93866b13e30996819bc52b6af5b8b6"
   }
  }
 },
 "nbformat": 4,
 "nbformat_minor": 2
}
