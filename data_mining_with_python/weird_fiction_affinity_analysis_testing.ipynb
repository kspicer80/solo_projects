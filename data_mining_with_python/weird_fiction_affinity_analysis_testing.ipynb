{
 "cells": [
  {
   "cell_type": "code",
   "execution_count": 63,
   "metadata": {},
   "outputs": [],
   "source": [
    "import pandas as pd\n",
    "from pathlib import Path"
   ]
  },
  {
   "cell_type": "code",
   "execution_count": 64,
   "metadata": {},
   "outputs": [],
   "source": [
    "file_path = 'gephi_edges.csv'"
   ]
  },
  {
   "cell_type": "code",
   "execution_count": 65,
   "metadata": {},
   "outputs": [],
   "source": [
    "all_ratings = pd.read_csv(file_path, header=0)"
   ]
  },
  {
   "cell_type": "code",
   "execution_count": 66,
   "metadata": {},
   "outputs": [],
   "source": [
    "all_ratings['Favorable'] = ~all_ratings['target'].isnull()\n",
    "#print(all_ratings['source'].max())\n",
    "ratings = all_ratings[all_ratings['source'].isin(range(396))]"
   ]
  },
  {
   "cell_type": "code",
   "execution_count": 67,
   "metadata": {},
   "outputs": [],
   "source": [
    "favorable_ratings = all_ratings[all_ratings['Favorable']]"
   ]
  },
  {
   "cell_type": "code",
   "execution_count": 68,
   "metadata": {},
   "outputs": [],
   "source": [
    "favorable_reviews_by_users = dict((k, frozenset(v.values)) for k, v in favorable_ratings.groupby('source')['target'])"
   ]
  },
  {
   "cell_type": "code",
   "execution_count": 69,
   "metadata": {},
   "outputs": [],
   "source": [
    "num_favorable_by_story = all_ratings[['target', 'Favorable']].groupby('target').sum()"
   ]
  },
  {
   "cell_type": "code",
   "execution_count": 70,
   "metadata": {},
   "outputs": [
    {
     "data": {
      "text/html": [
       "<div>\n",
       "<style scoped>\n",
       "    .dataframe tbody tr th:only-of-type {\n",
       "        vertical-align: middle;\n",
       "    }\n",
       "\n",
       "    .dataframe tbody tr th {\n",
       "        vertical-align: top;\n",
       "    }\n",
       "\n",
       "    .dataframe thead th {\n",
       "        text-align: right;\n",
       "    }\n",
       "</style>\n",
       "<table border=\"1\" class=\"dataframe\">\n",
       "  <thead>\n",
       "    <tr style=\"text-align: right;\">\n",
       "      <th></th>\n",
       "      <th>Favorable</th>\n",
       "    </tr>\n",
       "    <tr>\n",
       "      <th>target</th>\n",
       "      <th></th>\n",
       "    </tr>\n",
       "  </thead>\n",
       "  <tbody>\n",
       "    <tr>\n",
       "      <th>4.0</th>\n",
       "      <td>181</td>\n",
       "    </tr>\n",
       "    <tr>\n",
       "      <th>34.0</th>\n",
       "      <td>154</td>\n",
       "    </tr>\n",
       "    <tr>\n",
       "      <th>21.0</th>\n",
       "      <td>130</td>\n",
       "    </tr>\n",
       "    <tr>\n",
       "      <th>22.0</th>\n",
       "      <td>123</td>\n",
       "    </tr>\n",
       "    <tr>\n",
       "      <th>36.0</th>\n",
       "      <td>119</td>\n",
       "    </tr>\n",
       "  </tbody>\n",
       "</table>\n",
       "</div>"
      ],
      "text/plain": [
       "        Favorable\n",
       "target           \n",
       "4.0           181\n",
       "34.0          154\n",
       "21.0          130\n",
       "22.0          123\n",
       "36.0          119"
      ]
     },
     "execution_count": 70,
     "metadata": {},
     "output_type": "execute_result"
    }
   ],
   "source": [
    "num_favorable_by_story.sort_values('Favorable', ascending=False).head()"
   ]
  },
  {
   "cell_type": "code",
   "execution_count": 71,
   "metadata": {},
   "outputs": [],
   "source": [
    "frequent_itemsets = dict()\n",
    "min_support = 50\n",
    "frequent_itemsets[1] = dict((frozenset((target,)), row['Favorable']) for target, row in num_favorable_by_story.iterrows() if row['Favorable'] > min_support)"
   ]
  },
  {
   "cell_type": "code",
   "execution_count": 72,
   "metadata": {},
   "outputs": [],
   "source": [
    "from collections import defaultdict\n",
    "\n",
    "def find_frequent_itemsets(favorable_reviews_by_users, k_1_itemsets, min_support):\n",
    "    counts = defaultdict(int)\n",
    "    for user, reviews in favorable_reviews_by_users.items():\n",
    "        for itemset in k_1_itemsets:\n",
    "            if itemset.issubset(reviews):\n",
    "                for other_reviewed_movie in reviews - itemset:\n",
    "                    current_superset = itemset | frozenset((other_reviewed_movie,))\n",
    "                    counts[current_superset] += 1\n",
    "    return dict([(itemset, frequency) for itemset, frequency in counts.items() if frequency >= min_support])"
   ]
  },
  {
   "cell_type": "code",
   "execution_count": 73,
   "metadata": {},
   "outputs": [
    {
     "name": "stdout",
     "output_type": "stream",
     "text": [
      "I found 413 frequent itemsets of length 2.\n",
      "I found 2208 frequent itemsets of length 3.\n",
      "I found 6426 frequent itemsets of length 4.\n",
      "I found 11402 frequent itemsets of length 5.\n",
      "I found 12617 frequent itemsets of length 6.\n",
      "I found 8799 frequent itemsets of length 7.\n",
      "I found 3709 frequent itemsets of length 8.\n",
      "I found 844 frequent itemsets of length 9.\n",
      "I found 85 frequent itemsets of length 10.\n",
      "I found 2 frequent itemsets of length 11.\n",
      "Did not find any frequent itemsets of length 12.\n"
     ]
    }
   ],
   "source": [
    "import sys\n",
    "for k in range(2, 20):\n",
    "    cur_frequent_itemsets = find_frequent_itemsets(favorable_reviews_by_users, frequent_itemsets[k-1], min_support)\n",
    "    frequent_itemsets[k] = cur_frequent_itemsets\n",
    "    if len(cur_frequent_itemsets) == 0:\n",
    "        print(f\"Did not find any frequent itemsets of length {k}.\")\n",
    "        sys.stdout.flush()\n",
    "        break\n",
    "    else:\n",
    "        print(f\"I found {len(cur_frequent_itemsets)} frequent itemsets of length {k}.\")\n",
    "        sys.stdout.flush()\n",
    "        frequent_itemsets[k] = cur_frequent_itemsets"
   ]
  },
  {
   "cell_type": "code",
   "execution_count": 74,
   "metadata": {},
   "outputs": [],
   "source": [
    "candidate_rules = []\n",
    "for itemset_length, itemset_counts in frequent_itemsets.items():\n",
    "    for itemset in itemset_counts.keys():\n",
    "        for conclusion in itemset:\n",
    "            premise = itemset - set((conclusion,))\n",
    "            candidate_rules.append((premise, conclusion))"
   ]
  },
  {
   "cell_type": "code",
   "execution_count": 75,
   "metadata": {},
   "outputs": [],
   "source": [
    "correct_counts = defaultdict()\n",
    "incorrect_counts =  defaultdict()\n",
    "\n",
    "correct_counts = defaultdict(int)\n",
    "incorrect_counts = defaultdict(int)\n",
    "for user, reviews in favorable_reviews_by_users.items():\n",
    "    for candidate_rule in candidate_rules:\n",
    "        premise, conclusion = candidate_rule\n",
    "        if premise.issubset(reviews):\n",
    "            if conclusion in reviews:\n",
    "                correct_counts[candidate_rule] += 1\n",
    "            else:\n",
    "                incorrect_counts[candidate_rule] += 1"
   ]
  },
  {
   "cell_type": "code",
   "execution_count": 76,
   "metadata": {},
   "outputs": [],
   "source": [
    "rule_confidence = {candidate_rule: correct_counts[candidate_rule]/float\n",
    "(correct_counts[candidate_rule] + incorrect_counts[candidate_rule]) for \n",
    "candidate_rule in candidate_rules} "
   ]
  },
  {
   "cell_type": "code",
   "execution_count": 77,
   "metadata": {},
   "outputs": [
    {
     "name": "stdout",
     "output_type": "stream",
     "text": [
      "Rule #1\n",
      "Rule: If a person recommends frozenset({102.0}) they will also recommend 4.0.\n",
      "- Confidence: 1.0\n",
      "\n",
      "Rule #2\n",
      "Rule: If a person recommends frozenset({115.0, 78.0}) they will also recommend 27.0.\n",
      "- Confidence: 1.0\n",
      "\n",
      "Rule #3\n",
      "Rule: If a person recommends frozenset({27.0, 94.0}) they will also recommend 115.0.\n",
      "- Confidence: 1.0\n",
      "\n",
      "Rule #4\n",
      "Rule: If a person recommends frozenset({34.0, 115.0}) they will also recommend 27.0.\n",
      "- Confidence: 1.0\n",
      "\n",
      "Rule #5\n",
      "Rule: If a person recommends frozenset({74.0, 108.0}) they will also recommend 101.0.\n",
      "- Confidence: 1.0\n",
      "\n"
     ]
    }
   ],
   "source": [
    "from operator import itemgetter\n",
    "sorted_confidence = sorted(rule_confidence.items(), key=itemgetter(1), \n",
    "reverse=True)\n",
    "\n",
    "for index in range(5):\n",
    "    print(f\"Rule #{index+1}\")\n",
    "    (premise, conclusion) = sorted_confidence[index][0]\n",
    "    print(f\"Rule: If a person recommends {premise} they will also recommend {conclusion}.\")\n",
    "    print(f\"- Confidence: {rule_confidence[(premise, conclusion)]}\")\n",
    "    print(\"\")"
   ]
  },
  {
   "cell_type": "code",
   "execution_count": 86,
   "metadata": {},
   "outputs": [],
   "source": [
    "from all_names import all_author_and_student_names"
   ]
  },
  {
   "cell_type": "code",
   "execution_count": 87,
   "metadata": {},
   "outputs": [
    {
     "name": "stdout",
     "output_type": "stream",
     "text": [
      "{1: ['Lovecraft', 'Supernatural Horror in Fiction'], 2: ['Lois Tyson', 'Lois', 'Tyson', 'Psychoanalytic Criticism', 'Critical Theory Today', 'Critical Theory Today: A User-Friendly Guide'], 3: ['Michael Moorcock', 'Moorcock', 'Foreword'], 4: ['Jeff', 'VanderMeer', 'Ann', 'VanderMeer', 'Introduction'], 5: ['Sigmund Freud', 'Sigmund', 'Freud', 'The Uncanny'], 6: ['Alfred Kubin', 'Alfred', 'Kubin', 'The Other Side'], 7: ['F. Marion Crawford', 'Marion Crawford', 'The Screaming Skull'], 8: ['Algernon Blackwood', 'Algernon', 'Blackwood', 'The Willows'], 9: ['Saki', 'Sredni Vashtar'], 10: ['M. R. James', 'M. R.', 'Casting the Runes'], 11: ['Lord Dunsany', 'How Nuth Would Have Practised His Art Upon the Gnoles'], 12: ['Gustav Meyrink', 'Gustav', 'Meyrink', 'The Man in the Bottle'], 13: ['Georg Heym', 'Heym', 'The Dissection'], 14: ['Hans Heinz Ewers', 'Hans', 'Heinz', 'Ewers', 'The Spider'], 15: ['Rabindranath Tagore', 'Rabindranath', 'Tagore', 'The Hungry Stones'], 16: ['Luigi Ugolini', 'Luigi', 'Ugolini', 'The Vegetable Man'], 17: ['A. Merritt', 'Merritt', 'The People of the Pit'], 18: ['Ryonuoskue Akutagawa', 'Ryonuoskue', 'Akutagawa', 'The Hell Screen'], 19: ['Francis Stevens', 'Francis', 'Unseen-Unfeared'], 20: ['In the Penal Colony'], 21: ['Stefan Grabinski', 'Stefan', 'Grabinski', 'The White Wyrak'], 22: ['H. F. Arnold', 'H. F.', 'Arnold', 'The Night Wire'], 23: ['The Dunwich Horror', 'Dunwich Horror'], 24: ['Margaret Irwin', 'Irwin', 'The Book'], 25: ['Mainz', 'Psalter,The Mainz Psalter'], 26: ['Shadowy', 'The Shadowy Street'], 27: ['Charles Lamb', 'Lamb'], 28: ['Clark Ashton Smith', 'Clark', 'Ashton Smith', 'Genius Loci'], 29: ['Hagiwara Sakutaro', 'Hagiwara', 'Sakutaro', 'The Town of Cats'], 30: ['Hugh Walpole', 'Hugh', 'Walpole', 'The Tarn'], 31: ['Bruno Schulz', 'Bruno', 'Schulz', 'Sanatorium under the Sign of the ourglass'], 32: ['Robert Barbour Johnson', 'Barbour Johnson', 'Far Below'], 33: ['Fritz Lieber', 'Fritz', 'Lieber', 'Smoke Ghost'], 34: ['Leonora Carrington', 'Leonora', 'Carrington', 'White Rabbits'], 35: ['Donald A. Wollheim', 'Donald', 'A. Wollheim', 'Mimic'], 36: ['Ray Bradbury', 'Ray', 'Bradbury', 'The Crowd'], 37: ['The Long Sheet'], 38: ['Jorge Luis Borges', 'Jorge', 'Luis Borges', 'The Aleph'], 39: ['Olympe Bhely-Quenum', 'Olympe', 'Bhely-Quenum', 'A Child in the Bush of hosts'], 40: ['Summer People', 'The Summer People'], 41: ['Margaret St. Clair', 'St. Clair', 'The Man Who Sold Rope to he Gnoles'], 42: ['Robert Bloch', 'Bloch', 'The Hungry House'], 43: ['Amos Tutuola', 'Amos', 'Tutuola', 'The Complete Gentleman'], 44: ['Jerome Bixby', 'Jerome', 'Bixby', \"It's a Good Life\"], 45: ['Augusto Monterroso', 'Augusto', 'Monterroso', 'Mister Taylor'], 46: ['Julio Cortazar', 'Julio', 'Cortazar', 'Axolotl'], 47: ['A Woman Seldom', 'A Woman Seldom Found'], 48: ['Charles Beaumont', 'Beaumont', 'The Howling Man'], 49: ['Mervyn Peake', 'Mervyn', 'Peake', 'Same Time', ' Same Place'], 50: ['Colomber', 'The Colomber'], 51: ['Michel Bernanos', 'Michel', 'Bernanos', 'The Other Side of the Mountain'], 52: ['Merce Rodoreda', 'Merce', 'Rodoreda', 'The Salamander'], 53: ['Claude Seignolle', 'Claude', 'Seignolle', 'The Ghoulbird'], 54: ['Gahan Wilson', 'Gahan', 'Wilson', 'The Sea Was Wet As Wet Could Be'], 55: ['Daphne du Maurier', 'Daphne', 'du Maurier', \"Don't Look Now\"], 56: ['Robert Aickman', 'Aickman', 'The Hospice'], 57: ['Dennis Etchison', 'Dennis', 'Etchison', 'It Only Comes Out at Night'], 58: ['James Tiptree', 'Tiptree', \"The Psychologist Who Wouldn't Do errible Things to Rats\"], 59: ['Eric Basso', 'Basso', 'The Beak Doctor'], 60: ['Jamaica Kincaid', 'Jamaica', 'Kincaid', 'My Mother'], 61: ['George R. R. Martin', 'R. R. Martin', 'Sandkings'], 62: ['Bob Leman', 'Bob', 'Leman', 'Window'], 63: ['Ramsey Campbell', 'Ramsey', 'Campbell', 'The Brood'], 64: ['Michael Shea', 'Shea', 'The Autopsy'], 65: ['William Gibson/John Shirley', 'Gibson/John Shirley', 'The elonging Kind'], 66: ['Egnaro'], 67: ['Joanna Russ', 'Joanna', 'Russ', 'The Little Dirty Girl'], 68: ['The New Rays'], 69: ['Premendra Mitra', 'Premendra', 'Mitra', 'The Discovery of Telenapota'], 70: ['F. Paul Wilson', 'Paul Wilson', 'Soft'], 71: ['Octavia E. Butler', 'Octavia', 'E. Butler', 'Bloodchild'], 72: ['Clive Barker', 'Clive', 'Barker', 'In the Hills, the Cities', 'the Cities'], 73: ['Leena Krohn', 'Leena', 'Krohn', 'Tainaron: Mail From Another City'], 74: ['Garry Kilworth', 'Garry', 'Kilworth', 'Hogfoot Right and Bird-hands'], 75: ['Lucius Shepard', 'Lucius', 'Shepard', 'Shades'], 76: ['Harlan Ellison', 'Harlan', 'Ellison', 'The Function of Dream Sleep'], 77: ['Ben Okri', 'Okri', 'Worlds That Flourish'], 78: ['Elizabeth Hand', 'Elizabeth', 'Hand', 'The Boy in the Tree'], 79: ['Joyce Carol Oates', 'Joyce', 'Carol Oates', 'Family'], 80: ['Poppy Z. Brite', 'Poppy', 'Z. Brite', 'His Mouth Will Taste of Wormwood'], 81: ['Michal Ajvaz', 'Michal', 'Ajvaz', 'The End of the Garden'], 82: ['Karen Joy Fowler', 'Joy Fowler', 'The Dark'], 83: ['Kathe Koja', 'Kathe', 'Koja', 'Angels in Love'], 84: ['Haruki Murakami', 'Haruki', 'Murakami', 'The Ice Man'], 85: ['Lisa Tuttle', 'Lisa', 'Tuttle', 'Replacements'], 86: ['Marc Laidlaw', 'Laidlaw', 'The Diane Arbus Suicide Portfolio'], 87: ['Steven Utley', 'Utley', 'The Country Doctor'], 88: ['Martin Simpson', 'Simpson', 'Last Rites and Resurrections'], 89: ['William Browning Spencer', 'Browning Spencer', 'The Ocean and ll Its Devices'], 90: ['Delicate', 'The Delicate'], 91: ['Stephen King', 'King', 'The Man in the Black Suit'], 92: ['Angela Carter', 'Angela', 'Carter', 'The Snow Pavilion'], 93: ['Craig Padawer', 'Craig', 'Padawer', 'The Meat Garden'], 94: ['Stepan Chapman', 'Stepan', 'Chapman', 'The Stiff and the Stile'], 95: ['Tanith Lee', 'Tanith', 'Lee', 'Yellow and Red'], 96: ['Kelly Link', 'Link', \"The Specialist's Hat\"], 97: ['Caitlin R. Kiernan', 'Caitlin', 'R. Kiernan', 'A Redress for Andromeda'], 98: ['Michael Chabon', 'Michael', 'Chabon', 'The God of Dark Laughter'], 99: ['Details'], 100: ['Michael Cisco', 'Cisco', 'The Genius of Assassins'], 101: ['Neil Gaiman', 'Neil', 'Gaiman', 'Feeders and Eaters'], 102: ['Jeff VanderMeer', 'VanderMeer', 'The Cage'], 103: ['The Beautiful Gelreesh', 'Beautiful Gelreesh'], 104: ['Thomas Ligotti', 'Ligotti', 'The Town Manager'], 105: ['Brian Evenson', 'Evenson', 'The Brotherhood of Mutilation'], 106: ['Mark Samuels', 'Samuels', 'The White Hands'], 107: ['Daniel Abraham', 'Abraham', 'Flat Diane'], 108: ['Margo Lanagan', 'Margo', 'Lanagan', 'Singing My Sister Down'], 109: ['T. M. Wright', 'T.', 'M. Wright', 'The People on the Island'], 110: ['Laird Barron', 'Laird', 'Barron', 'The Forest'], 111: ['Liz Williams', 'The Hide'], 112: ['Reza Negarestani', 'Reza', 'Negarestani', 'Dust Enforcer'], 113: ['Micaela Morrissette', 'Micaela', 'Morrissette', 'The Familiars'], 114: ['Steve Duffy', 'Duffy', \"In the Lion's Den\"], 115: ['Stephen Graham Jones', 'Graham Jones', 'Little Lambs'], 116: ['J. Robert Lennon', 'J. Robert', 'Lennon', 'The Portal'], 117: ['K. J. Bishop', 'K. J.', 'Bishop', 'Saving the Gleeful Horse'], 118: ['Afterweird'], 119: ['Lottery', 'The Lottery'], 120: ['The Falling', 'The Falling Girl'], 121: ['Before the Law'], 122: ['Laura Neato', 'Laura', 'Neato', 'Sredni Vashtar Graphic'], 123: ['Notes on Writing Weird Fiction', 'Notes on Writing Weird'], 124: ['Mark Fisher', 'Weird & Eerie', 'Fisher', 'The Weird and the Eerie'], 125: 'JoleneA', 126: 'ChristianB', 127: 'EmmaB', 128: 'JordanC', 129: 'ClaytonC', 130: 'DavidC', 131: 'MeganC', 132: 'DominicC', 133: 'JillianC', 134: 'SophiaL', 135: 'JackG', 136: 'DanielleG', 137: 'OliviaH', 138: 'MartinaK', 139: 'GillianK', 140: 'AliciaL', 141: 'JessicaL', 142: 'DarianL', 143: 'AamnaM', 144: 'MelissaM', 145: 'RyanM', 146: 'DeniseM', 147: 'TiffaneyM', 148: 'CassandraN', 149: 'ConradO', 150: 'NelesaO', 151: 'AshleyP', 152: 'JacobP', 153: 'EboniR', 154: 'ArelyS', 155: 'JoeS', 156: 'JessicaS', 157: 'AndreyS', 158: 'KevinS', 159: 'JessicaSt', 160: 'TaylorV', 161: 'CierraV', 162: 'DaniellaW', 163: 'JazmynW', 164: 'JessicaW', 165: 'ClarissaW', 166: 'TravisW', 167: 'DanielB', 168: 'DannyB', 169: 'AlyiaC', 170: 'OliviaD', 171: 'DechenD', 172: 'CarlosF', 173: 'GrantF', 174: 'MelissaG', 175: 'MeganI', 176: 'YuruJ', 177: 'BrandonK', 178: 'LillianK', 179: 'AamnaM', 180: 'AlexisM', 181: 'DanielleM', 182: 'AnnaN', 183: 'DeeO', 184: 'KaylynnP', 185: 'EllieP', 186: 'ThomasS', 187: 'HannahSw', 188: 'FernandoT', 189: 'AnastaziaW', 190: 'JoshuaW', 191: 'YunluZ', 192: 'NathanA', 193: 'MichaelB', 194: 'PriscillaB', 195: 'DanC', 196: 'KellyG', 197: 'LillianG', 198: 'MargaretH', 199: 'AmiraH', 200: 'HannahK', 201: 'CarleenK', 202: 'KarinaL', 203: 'AlyssaM', 204: 'TerraM', 205: 'LilyO', 206: 'TabithaO', 207: 'AllieO', 208: 'MichaelP', 209: 'KaylaS', 210: 'AlexisR', 211: 'AlysaK', 212: 'AlyssaD', 213: 'AmandaW', 214: 'BriannaF', 215: 'CalieB', 216: 'CarlosC', 217: 'DerekW', 218: 'EricM', 219: 'ErikaF', 220: 'EsmeraldaC', 221: 'HaileyH', 222: 'JaneeseJ', 223: 'JasmineE', 224: 'JeneenA', 225: 'JessicaH', 226: 'JessicaK', 227: 'JoshuaC', 228: 'KalynS', 229: 'KendallP', 230: 'KyaK', 231: 'LizbethP', 232: 'LukeM', 233: 'MadisonE', 234: 'MakaylaB', 235: 'MakaylaS', 236: 'MariaelaM', 237: 'MartinR', 238: 'MartineB', 239: 'MeilingP', 240: 'MichaelW', 241: 'MwansaP', 242: 'NicholasC', 243: 'NicholasJ', 244: 'SamreenM', 245: 'ShannonS', 246: 'ShelbiW', 247: 'SydneyH', 248: 'TimothyW', 249: 'YailynG', 250: 'YazmineM', 251: 'AlissaA', 252: 'EJS', 253: 'JalenC', 254: 'LindaE', 255: 'MelissaG', 256: 'AylaG', 257: 'KellyJ', 258: 'RyanJ', 259: 'JacobK', 260: 'StephanyL', 261: 'HenryL', 262: 'ChristinaL', 263: 'VanessaM', 264: 'MaKenzieM', 265: 'LiliN', 266: 'AdeO', 267: 'AlondraO', 268: 'AshleyR', 269: 'KaylieS', 270: 'HannaS', 271: 'CarlyV', 272: 'AdrianV', 273: 'KatarinaW', 274: 'JewelA', 275: 'JessicaA', 276: 'HaleyB', 277: 'GregoryB', 278: 'JosephB', 279: 'DanielB', 280: 'JusteneC', 281: 'MorganC', 282: 'EricF', 283: 'HunterF', 284: 'NoellieD', 285: 'TaliaJ', 286: 'IanK', 287: 'VincentL', 288: 'AfreenM', 289: 'EricN', 290: 'EvelynO', 291: 'SamuelP', 292: 'JohnR', 293: 'IsabellaR', 294: 'AmariS', 295: 'LoganS', 296: 'DanielleS', 297: 'SarahV', 298: 'PaolaV', 299: 'ElizabethC', 300: 'MackenzieC', 301: 'AlliahC', 302: 'ChristinaC', 303: 'AidanF', 304: 'MarlinF', 305: 'DianeG', 306: 'AudreyH', 307: 'RyanK', 308: 'CheridanM', 309: 'LaneyM', 310: 'DianaO', 311: 'ThaminahR', 312: 'PaytonR', 313: 'RobertR', 314: 'TichinaT', 315: 'JasonT', 316: 'EmilyV', 317: 'LukeW', 318: 'ClaireW', 319: 'FatimaZ', 320: 'JudithA', 321: 'DayanaraA', 322: 'DesireeA', 323: 'VincentB', 324: 'ChelseaB', 325: 'AniyahB', 326: 'SalvatoreC', 327: 'JanV', 328: 'RyanD', 329: 'MelanyD', 330: 'JaclynD', 331: 'RussellE', 332: 'BiancaE', 333: 'PeytonG', 334: 'KaizerG', 335: 'SamanthaH', 336: 'JayceeJ', 337: 'JoshK', 338: 'AndrewL', 339: 'MatthewL', 340: 'KarenM', 341: 'NadeenM', 342: 'JohnM', 343: 'SeanM', 344: 'ElenaM', 345: 'ShannonO', 346: 'SilasO', 347: 'WendyP', 348: 'SamR', 349: 'MirianR', 350: 'SamanthaR', 351: 'EmmanuelS', 352: 'HannahS', 353: 'TaraT', 354: 'MadisenT', 355: 'ReannaV', 356: 'JacquelineV', 357: 'MelaniV', 358: 'JenV', 359: 'BrandiV', 360: 'AlaysiaC', 361: 'AndresV', 362: 'ArykaA', 363: 'BenjaminM', 364: 'BraxtinM', 365: 'BriannaQ', 366: 'CarolineD', 367: 'DelaneyJ', 368: 'HunterD', 369: 'IvoryL', 370: 'JaresetL', 371: 'Jean-Gabriel', 372: 'JosephineH', 373: 'JulieM', 374: 'JustineF', 375: 'KarlaA', 376: 'KrzysztofN', 377: 'LaMarcusH', 378: 'LeenR', 379: 'LeslieD', 380: 'LisetteP', 381: 'LoganM', 382: 'LucasW', 383: 'LuisG', 384: 'MackenzieC', 385: 'MadisonC', 386: 'MaraD', 387: 'MaryamA', 388: 'MeaganW', 389: 'NadavG', 390: 'RebekahK', 391: 'RobyT', 392: 'RosaiselaC', 393: 'SavannahJ', 394: 'StephanieC', 395: 'WilliamA', 396: 'WillM'}\n"
     ]
    }
   ],
   "source": [
    "names = all_author_and_student_names\n",
    "print(names)"
   ]
  },
  {
   "cell_type": "code",
   "execution_count": 83,
   "metadata": {},
   "outputs": [
    {
     "ename": "TypeError",
     "evalue": "unhashable type: 'list'",
     "output_type": "error",
     "traceback": [
      "\u001b[1;31m---------------------------------------------------------------------------\u001b[0m",
      "\u001b[1;31mTypeError\u001b[0m                                 Traceback (most recent call last)",
      "\u001b[1;32mc:\\Users\\KSpicer\\Documents\\GitHub\\solo_projects\\data_mining_with_python\\weird_fiction_affinity_analysis_testing.ipynb Cell 18\u001b[0m in \u001b[0;36m<cell line: 3>\u001b[1;34m()\u001b[0m\n\u001b[0;32m      <a href='vscode-notebook-cell:/c%3A/Users/KSpicer/Documents/GitHub/solo_projects/data_mining_with_python/weird_fiction_affinity_analysis_testing.ipynb#ch0000019?line=0'>1</a>\u001b[0m k_v_exchanged \u001b[39m=\u001b[39m {}\n\u001b[0;32m      <a href='vscode-notebook-cell:/c%3A/Users/KSpicer/Documents/GitHub/solo_projects/data_mining_with_python/weird_fiction_affinity_analysis_testing.ipynb#ch0000019?line=2'>3</a>\u001b[0m \u001b[39mfor\u001b[39;00m key, value \u001b[39min\u001b[39;00m names\u001b[39m.\u001b[39mitems():\n\u001b[1;32m----> <a href='vscode-notebook-cell:/c%3A/Users/KSpicer/Documents/GitHub/solo_projects/data_mining_with_python/weird_fiction_affinity_analysis_testing.ipynb#ch0000019?line=3'>4</a>\u001b[0m     \u001b[39mif\u001b[39;00m value \u001b[39mnot\u001b[39;49;00m \u001b[39min\u001b[39;49;00m k_v_exchanged:\n\u001b[0;32m      <a href='vscode-notebook-cell:/c%3A/Users/KSpicer/Documents/GitHub/solo_projects/data_mining_with_python/weird_fiction_affinity_analysis_testing.ipynb#ch0000019?line=4'>5</a>\u001b[0m         k_v_exchanged[value] \u001b[39m=\u001b[39m [key]\n\u001b[0;32m      <a href='vscode-notebook-cell:/c%3A/Users/KSpicer/Documents/GitHub/solo_projects/data_mining_with_python/weird_fiction_affinity_analysis_testing.ipynb#ch0000019?line=5'>6</a>\u001b[0m     \u001b[39melse\u001b[39;00m:\n",
      "\u001b[1;31mTypeError\u001b[0m: unhashable type: 'list'"
     ]
    }
   ],
   "source": [
    "k_v_exchanged = {}\n",
    "\n",
    "for key, value in names.items():\n",
    "    if value not in k_v_exchanged:\n",
    "        k_v_exchanged[value] = [key]\n",
    "    else:\n",
    "        k_v_exchanged[value].append(key)"
   ]
  },
  {
   "cell_type": "code",
   "execution_count": null,
   "metadata": {},
   "outputs": [],
   "source": []
  }
 ],
 "metadata": {
  "kernelspec": {
   "display_name": "Python 3.9.12 ('victorian_authorship_env')",
   "language": "python",
   "name": "python3"
  },
  "language_info": {
   "codemirror_mode": {
    "name": "ipython",
    "version": 3
   },
   "file_extension": ".py",
   "mimetype": "text/x-python",
   "name": "python",
   "nbconvert_exporter": "python",
   "pygments_lexer": "ipython3",
   "version": "3.9.12"
  },
  "orig_nbformat": 4,
  "vscode": {
   "interpreter": {
    "hash": "ef5d861bb1be136369da2a14d97f47e042662aed23f513481be9d838db3326bb"
   }
  }
 },
 "nbformat": 4,
 "nbformat_minor": 2
}
